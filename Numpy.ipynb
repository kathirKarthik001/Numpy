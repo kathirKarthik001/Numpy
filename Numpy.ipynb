{
  "nbformat": 4,
  "nbformat_minor": 0,
  "metadata": {
    "colab": {
      "provenance": []
    },
    "kernelspec": {
      "name": "python3",
      "display_name": "Python 3"
    },
    "language_info": {
      "name": "python"
    }
  },
  "cells": [
    {
      "cell_type": "markdown",
      "source": [
        "# **NUMPY LEARNING**\n",
        "*~ Kathir Karthik M*"
      ],
      "metadata": {
        "id": "annB8-O2DMss"
      }
    },
    {
      "cell_type": "code",
      "execution_count": null,
      "metadata": {
        "id": "uw1RCxZB1gRT"
      },
      "outputs": [],
      "source": [
        "import numpy as np"
      ]
    },
    {
      "cell_type": "code",
      "source": [
        "# Creation\n",
        "a = np.array([7,8,9], dtype = np.int16)\n",
        "b = np.array([[3.0,7.9,6.8],[3.0,7.9,6.8]])\n",
        "print(type(a))\n",
        "print(a)\n",
        "print(b)\n"
      ],
      "metadata": {
        "colab": {
          "base_uri": "https://localhost:8080/"
        },
        "id": "D-iwEIl76FJz",
        "outputId": "6c86a6a2-0bdb-4cfd-d767-36a15330cd68"
      },
      "execution_count": null,
      "outputs": [
        {
          "output_type": "stream",
          "name": "stdout",
          "text": [
            "<class 'numpy.ndarray'>\n",
            "[7 8 9]\n",
            "[[3.  7.9 6.8]\n",
            " [3.  7.9 6.8]]\n"
          ]
        }
      ]
    },
    {
      "cell_type": "code",
      "source": [
        "# Dimensions\n",
        "\n",
        "\n",
        "print(a.ndim)\n",
        "print(b.ndim)\n",
        "\n",
        "c = np.array([4,5] , ndmin = 4)     # ndmin\n",
        "print(c.ndim)                       # ndim"
      ],
      "metadata": {
        "colab": {
          "base_uri": "https://localhost:8080/"
        },
        "id": "PM6ebTHK6a3l",
        "outputId": "23e14ec4-40e7-4875-a591-9e1719fdb313"
      },
      "execution_count": null,
      "outputs": [
        {
          "output_type": "stream",
          "name": "stdout",
          "text": [
            "1\n",
            "2\n",
            "4\n"
          ]
        }
      ]
    },
    {
      "cell_type": "code",
      "source": [
        "# Shape\n",
        "print(a.shape)\n",
        "print(b.shape)"
      ],
      "metadata": {
        "colab": {
          "base_uri": "https://localhost:8080/"
        },
        "id": "KloV_RQj6n74",
        "outputId": "c5f1165c-5de1-4166-b33a-d585029671be"
      },
      "execution_count": null,
      "outputs": [
        {
          "output_type": "stream",
          "name": "stdout",
          "text": [
            "(3,)\n",
            "(2, 3)\n"
          ]
        }
      ]
    },
    {
      "cell_type": "code",
      "source": [
        "# Datatype\n",
        "print(a.dtype)\n",
        "print(b.dtype)"
      ],
      "metadata": {
        "colab": {
          "base_uri": "https://localhost:8080/"
        },
        "id": "ZP0IXgDY6z6m",
        "outputId": "34406e66-d3b2-45d1-d75b-26c042ab5bc6"
      },
      "execution_count": null,
      "outputs": [
        {
          "output_type": "stream",
          "name": "stdout",
          "text": [
            "int16\n",
            "float64\n"
          ]
        }
      ]
    },
    {
      "cell_type": "code",
      "source": [
        "# Item size\n",
        "print(a.itemsize)      # 16 bit int value so each itemsize 16/8 = 2bytes   so each item 2 byte\n",
        "print(b.itemsize)      # 64 bit float value so each itemsize 64/8 = 8bytes  so each item 8 byte"
      ],
      "metadata": {
        "colab": {
          "base_uri": "https://localhost:8080/"
        },
        "id": "RiF-1WQo6zYv",
        "outputId": "2c186fc0-416a-47ca-b907-b4ff4ab5ed6c"
      },
      "execution_count": null,
      "outputs": [
        {
          "output_type": "stream",
          "name": "stdout",
          "text": [
            "2\n",
            "8\n"
          ]
        }
      ]
    },
    {
      "cell_type": "code",
      "source": [
        "# no of elements\n",
        "print (a.size)\n",
        "\n",
        "\n",
        "# Total no of bytes\n",
        "print (a.size * a.itemsize)\n",
        "#    (or)\n",
        "print (a.nbytes)\n"
      ],
      "metadata": {
        "colab": {
          "base_uri": "https://localhost:8080/"
        },
        "id": "Dn2Y3FNW9Ira",
        "outputId": "bc1b8700-97dc-4863-e5a8-2885b522b0da"
      },
      "execution_count": null,
      "outputs": [
        {
          "output_type": "stream",
          "name": "stdout",
          "text": [
            "3\n",
            "6\n",
            "6\n"
          ]
        }
      ]
    },
    {
      "cell_type": "markdown",
      "source": [
        "**INDEXING AND ACCESSING**"
      ],
      "metadata": {
        "id": "SAnKDLLzDAIT"
      }
    },
    {
      "cell_type": "code",
      "source": [
        "# indexing, acsessing\n",
        "\n",
        "a = np.array([[1,2,3,4,5,6,7],[8,9,10,11,12,13,14]])\n",
        "print(a)\n",
        "\n"
      ],
      "metadata": {
        "colab": {
          "base_uri": "https://localhost:8080/"
        },
        "id": "aeOnBKnc-HV4",
        "outputId": "5b277288-eb24-44f9-c619-87d2785b591b"
      },
      "execution_count": null,
      "outputs": [
        {
          "output_type": "stream",
          "name": "stdout",
          "text": [
            "[[ 1  2  3  4  5  6  7]\n",
            " [ 8  9 10 11 12 13 14]]\n"
          ]
        }
      ]
    },
    {
      "cell_type": "code",
      "source": [
        "# Get a specific element [r, c]\n",
        "print(a[0, 6])"
      ],
      "metadata": {
        "colab": {
          "base_uri": "https://localhost:8080/"
        },
        "id": "xVtsUtfDCBt4",
        "outputId": "96f4bacc-c7f3-4f14-fbbb-201ad3aa42a4"
      },
      "execution_count": null,
      "outputs": [
        {
          "output_type": "stream",
          "name": "stdout",
          "text": [
            "7\n"
          ]
        }
      ]
    },
    {
      "cell_type": "code",
      "source": [
        "# Get a specific row\n",
        "print(a[0, :])\n"
      ],
      "metadata": {
        "colab": {
          "base_uri": "https://localhost:8080/"
        },
        "id": "3vrWGjUECCQL",
        "outputId": "835ffeb9-4f2a-40a2-e6a2-7f5e307355cd"
      },
      "execution_count": null,
      "outputs": [
        {
          "output_type": "stream",
          "name": "stdout",
          "text": [
            "[1 2 3 4 5 6 7]\n"
          ]
        }
      ]
    },
    {
      "cell_type": "code",
      "source": [
        "# Get a specific column\n",
        "print(a[:, 5])\n"
      ],
      "metadata": {
        "colab": {
          "base_uri": "https://localhost:8080/"
        },
        "id": "nIRpKZdSCCqT",
        "outputId": "ee816690-0dae-470c-ccf3-17d667d252a4"
      },
      "execution_count": null,
      "outputs": [
        {
          "output_type": "stream",
          "name": "stdout",
          "text": [
            "[ 6 13]\n"
          ]
        }
      ]
    },
    {
      "cell_type": "code",
      "source": [
        "# Slicing   [startindex:endindex:stepsize]\n",
        "a[0 ,    1:-1:2]    # intrepreter takes as [firstelement ,last element-1,step-1 ]\n"
      ],
      "metadata": {
        "colab": {
          "base_uri": "https://localhost:8080/"
        },
        "id": "0Lm7tUthCDAl",
        "outputId": "c3f70ab5-e7c4-41d3-9bb1-29f9d5030578"
      },
      "execution_count": null,
      "outputs": [
        {
          "output_type": "execute_result",
          "data": {
            "text/plain": [
              "array([2, 4, 6])"
            ]
          },
          "metadata": {},
          "execution_count": 10
        }
      ]
    },
    {
      "cell_type": "code",
      "source": [
        "a[1,5] = 20\n",
        "\n",
        "a[:,2] = [1,2]\n",
        "print(a)\n"
      ],
      "metadata": {
        "colab": {
          "base_uri": "https://localhost:8080/"
        },
        "id": "idVOtzmiC9f3",
        "outputId": "e51086f1-d6ea-4e2d-8b7c-e64b37a51903"
      },
      "execution_count": null,
      "outputs": [
        {
          "output_type": "stream",
          "name": "stdout",
          "text": [
            "[[ 1  2  1  4  5  6  7]\n",
            " [ 8  9  2 11 12 20 14]]\n"
          ]
        }
      ]
    },
    {
      "cell_type": "code",
      "source": [
        "# 3D arrays\n",
        "d = np.array([[[3,4],[4,5]],[[6,7],[7,8]]])\n",
        "print(d)"
      ],
      "metadata": {
        "colab": {
          "base_uri": "https://localhost:8080/"
        },
        "id": "uGi_3pZcvWV1",
        "outputId": "ca0d507e-df5e-47ae-9f26-00b55bc903d6"
      },
      "execution_count": null,
      "outputs": [
        {
          "output_type": "stream",
          "name": "stdout",
          "text": [
            "[[[3 4]\n",
            "  [4 5]]\n",
            "\n",
            " [[6 7]\n",
            "  [7 8]]]\n"
          ]
        }
      ]
    },
    {
      "cell_type": "code",
      "source": [
        "print(d[0,1,1])       #first row second element's second element\n",
        "print(d[:,1,:])\n",
        "d[:,1,:]=[[1,1],[1,1]]\n",
        "print(d)"
      ],
      "metadata": {
        "colab": {
          "base_uri": "https://localhost:8080/"
        },
        "id": "ulTS4tjZxa9J",
        "outputId": "07a69d8e-d26a-4e21-b323-c4c857d84387"
      },
      "execution_count": null,
      "outputs": [
        {
          "output_type": "stream",
          "name": "stdout",
          "text": [
            "1\n",
            "[[1 1]\n",
            " [1 1]]\n",
            "[[[3 4]\n",
            "  [1 1]]\n",
            "\n",
            " [[6 7]\n",
            "  [1 1]]]\n"
          ]
        }
      ]
    },
    {
      "cell_type": "markdown",
      "source": [
        "**BUILT-IN FUNCTIONS**"
      ],
      "metadata": {
        "id": "rHqPOxrHy9_s"
      }
    },
    {
      "cell_type": "code",
      "source": [
        "# Filling with zeros\n",
        "e=np.zeros((2,3))\n",
        "print(e)\n",
        "\n",
        "# Filling with ones\n",
        "np.ones((2,3,2),dtype=np.int16)"
      ],
      "metadata": {
        "colab": {
          "base_uri": "https://localhost:8080/"
        },
        "id": "Obsn1-Ozy9RU",
        "outputId": "767c6eac-2ce9-4f23-9953-dc1ef7ba764d"
      },
      "execution_count": null,
      "outputs": [
        {
          "output_type": "stream",
          "name": "stdout",
          "text": [
            "[[0. 0. 0.]\n",
            " [0. 0. 0.]]\n"
          ]
        },
        {
          "output_type": "execute_result",
          "data": {
            "text/plain": [
              "array([[[1, 1],\n",
              "        [1, 1],\n",
              "        [1, 1]],\n",
              "\n",
              "       [[1, 1],\n",
              "        [1, 1],\n",
              "        [1, 1]]], dtype=int16)"
            ]
          },
          "metadata": {},
          "execution_count": 23
        }
      ]
    },
    {
      "cell_type": "code",
      "source": [
        "# filling the array with nos using full\n",
        "print(np.full((2,3),7))                 # np.full (  (shape) , number )\n",
        "\n",
        "print(np.full((2,3),[4,5,4]))\n",
        "\n",
        "print(np.full_like(a,5))               # np.full_like( array , number)  same as np.full( array.shape, number)\n",
        "\n",
        "print(np.full(a.shape, 5))"
      ],
      "metadata": {
        "colab": {
          "base_uri": "https://localhost:8080/"
        },
        "id": "JZLmD4xAzxpK",
        "outputId": "7306d398-ffb0-4aab-e762-f1010ab10b2c"
      },
      "execution_count": null,
      "outputs": [
        {
          "output_type": "stream",
          "name": "stdout",
          "text": [
            "[[7 7 7]\n",
            " [7 7 7]]\n",
            "[[4 5 4]\n",
            " [4 5 4]]\n",
            "[[5 5 5 5 5 5 5]\n",
            " [5 5 5 5 5 5 5]]\n",
            "[[5 5 5 5 5 5 5]\n",
            " [5 5 5 5 5 5 5]]\n"
          ]
        }
      ]
    },
    {
      "cell_type": "markdown",
      "source": [
        "*Random function*"
      ],
      "metadata": {
        "id": "S-EbJZ621BD-"
      }
    },
    {
      "cell_type": "code",
      "source": [
        "#random array generation\n",
        "print(np.random.rand(3,3))\n",
        "\n",
        "print(np.random.randint(2,6,size=(3,3)))\n"
      ],
      "metadata": {
        "colab": {
          "base_uri": "https://localhost:8080/"
        },
        "id": "G4US2E680-ef",
        "outputId": "1e8ab37f-2e41-4ca0-ad1b-42e7b51c5aeb"
      },
      "execution_count": null,
      "outputs": [
        {
          "output_type": "stream",
          "name": "stdout",
          "text": [
            "[[0.1889255  0.83219214 0.91688471]\n",
            " [0.37162991 0.7160225  0.76253163]\n",
            " [0.71832229 0.08303689 0.41479835]]\n",
            "[[2 2 5]\n",
            " [2 2 2]\n",
            " [5 4 3]]\n"
          ]
        }
      ]
    },
    {
      "cell_type": "markdown",
      "source": [
        "*Matrix generation*"
      ],
      "metadata": {
        "id": "0_U0vKzrEcFL"
      }
    },
    {
      "cell_type": "code",
      "source": [],
      "metadata": {
        "id": "joZrm4koEb0c"
      },
      "execution_count": null,
      "outputs": []
    },
    {
      "cell_type": "code",
      "source": [
        "print(np.identity(3,dtype=np.int16))            # identity generates a square matrix"
      ],
      "metadata": {
        "colab": {
          "base_uri": "https://localhost:8080/"
        },
        "id": "wvCZW2S8ECRe",
        "outputId": "18da1954-017b-4c3a-f3f2-37bfd4ee212a"
      },
      "execution_count": null,
      "outputs": [
        {
          "output_type": "stream",
          "name": "stdout",
          "text": [
            "[[1 0 0]\n",
            " [0 1 0]\n",
            " [0 0 1]]\n"
          ]
        }
      ]
    },
    {
      "cell_type": "code",
      "source": [
        "arr = np.array([1,2,3])\n",
        "np.repeat(arr,3)"
      ],
      "metadata": {
        "colab": {
          "base_uri": "https://localhost:8080/"
        },
        "id": "XdhWKdYM2QFe",
        "outputId": "36c99c42-cc71-44fd-db1a-62c8f4286c4e"
      },
      "execution_count": null,
      "outputs": [
        {
          "output_type": "execute_result",
          "data": {
            "text/plain": [
              "array([1, 1, 1, 2, 2, 2, 3, 3, 3])"
            ]
          },
          "metadata": {},
          "execution_count": 8
        }
      ]
    },
    {
      "cell_type": "code",
      "source": [
        "arr = np.array([[1,2,3]])                         # Repeating\n",
        "np.repeat(arr,3,axis=0)"
      ],
      "metadata": {
        "colab": {
          "base_uri": "https://localhost:8080/"
        },
        "id": "P3WxW7S71aYU",
        "outputId": "cc73dc53-ef80-472b-9e86-df50c7c6c963"
      },
      "execution_count": null,
      "outputs": [
        {
          "output_type": "execute_result",
          "data": {
            "text/plain": [
              "array([[1, 2, 3],\n",
              "       [1, 2, 3],\n",
              "       [1, 2, 3]])"
            ]
          },
          "metadata": {},
          "execution_count": 7
        }
      ]
    },
    {
      "cell_type": "code",
      "source": [
        "output = np.ones((5,5),dtype=np.int16)\n",
        "print(output)\n",
        "\n",
        "r = np.zeros((3,3))\n",
        "r[1,1]=9\n",
        "print(r)\n",
        "\n",
        "output[1:4,1:4] = r\n",
        "print(output)"
      ],
      "metadata": {
        "colab": {
          "base_uri": "https://localhost:8080/"
        },
        "id": "yPARTc6B2zj2",
        "outputId": "0ae92c7f-9eb7-4f7f-f9ec-59d8606cdc8c"
      },
      "execution_count": null,
      "outputs": [
        {
          "output_type": "stream",
          "name": "stdout",
          "text": [
            "[[1 1 1 1 1]\n",
            " [1 1 1 1 1]\n",
            " [1 1 1 1 1]\n",
            " [1 1 1 1 1]\n",
            " [1 1 1 1 1]]\n",
            "[[0. 0. 0.]\n",
            " [0. 9. 0.]\n",
            " [0. 0. 0.]]\n",
            "[[1 1 1 1 1]\n",
            " [1 0 0 0 1]\n",
            " [1 0 9 0 1]\n",
            " [1 0 0 0 1]\n",
            " [1 1 1 1 1]]\n"
          ]
        }
      ]
    },
    {
      "cell_type": "markdown",
      "source": [
        "**COPYING**"
      ],
      "metadata": {
        "id": "2kroULv1458z"
      }
    },
    {
      "cell_type": "code",
      "source": [
        "A = np.array([1,2,3])\n",
        "B = A.copy()                        # array.copy()\n",
        "B[1] =100\n",
        "\n",
        "print(A)\n",
        "print(B)"
      ],
      "metadata": {
        "colab": {
          "base_uri": "https://localhost:8080/"
        },
        "id": "V1aW3aGj45t7",
        "outputId": "8e252574-91f2-4bbd-8d38-fe8228e86629"
      },
      "execution_count": null,
      "outputs": [
        {
          "output_type": "stream",
          "name": "stdout",
          "text": [
            "[1 2 3]\n",
            "[  1 100   3]\n"
          ]
        }
      ]
    },
    {
      "cell_type": "markdown",
      "source": [
        "**MATH FUNCTIONS/ AGGREGATE FUNCTIONS**"
      ],
      "metadata": {
        "id": "U7-ll3-N6TO7"
      }
    },
    {
      "cell_type": "code",
      "source": [
        "r = np.array([[1,4],[2,3]])\n",
        "r"
      ],
      "metadata": {
        "colab": {
          "base_uri": "https://localhost:8080/"
        },
        "id": "4Z3m3Cu_6Seq",
        "outputId": "68dc17d2-eda9-4f3a-cfff-e6fef00dbc06"
      },
      "execution_count": null,
      "outputs": [
        {
          "output_type": "execute_result",
          "data": {
            "text/plain": [
              "array([[1, 4],\n",
              "       [2, 3]])"
            ]
          },
          "metadata": {},
          "execution_count": 38
        }
      ]
    },
    {
      "cell_type": "code",
      "source": [
        "r+1                                # add each element with 1"
      ],
      "metadata": {
        "colab": {
          "base_uri": "https://localhost:8080/"
        },
        "id": "JQGxBaQ96hmR",
        "outputId": "a480b3a6-4134-43b2-9ef5-220ee44a72ab"
      },
      "execution_count": null,
      "outputs": [
        {
          "output_type": "execute_result",
          "data": {
            "text/plain": [
              "array([[2, 5],\n",
              "       [3, 4]])"
            ]
          },
          "metadata": {},
          "execution_count": 49
        }
      ]
    },
    {
      "cell_type": "code",
      "source": [
        "r-1                                # subract each element with 1"
      ],
      "metadata": {
        "colab": {
          "base_uri": "https://localhost:8080/"
        },
        "id": "vc2JAGkw6pIx",
        "outputId": "447ce2af-7271-4be0-ce2c-640e2c17ee91"
      },
      "execution_count": null,
      "outputs": [
        {
          "output_type": "execute_result",
          "data": {
            "text/plain": [
              "array([[0, 3],\n",
              "       [1, 2]])"
            ]
          },
          "metadata": {},
          "execution_count": 41
        }
      ]
    },
    {
      "cell_type": "code",
      "source": [
        "r*2                                # multiply each element with 2"
      ],
      "metadata": {
        "colab": {
          "base_uri": "https://localhost:8080/"
        },
        "id": "QGRVDWHr6szt",
        "outputId": "86a30577-e3e0-4744-d178-8c41d8c70345"
      },
      "execution_count": null,
      "outputs": [
        {
          "output_type": "execute_result",
          "data": {
            "text/plain": [
              "array([[2, 8],\n",
              "       [4, 6]])"
            ]
          },
          "metadata": {},
          "execution_count": 40
        }
      ]
    },
    {
      "cell_type": "code",
      "source": [
        "r**2                               # squaring each item of the array"
      ],
      "metadata": {
        "colab": {
          "base_uri": "https://localhost:8080/"
        },
        "id": "BWC8kH4I6wqf",
        "outputId": "1406ae62-b108-485a-e019-3a795234e576"
      },
      "execution_count": null,
      "outputs": [
        {
          "output_type": "execute_result",
          "data": {
            "text/plain": [
              "array([[ 1, 16],\n",
              "       [ 4,  9]])"
            ]
          },
          "metadata": {},
          "execution_count": 39
        }
      ]
    },
    {
      "cell_type": "code",
      "source": [
        "print(np.max(r))                   # giving the biggest element in the array"
      ],
      "metadata": {
        "colab": {
          "base_uri": "https://localhost:8080/"
        },
        "id": "SPBKBuaH6z8r",
        "outputId": "9507c9d7-135c-4714-9efa-715ab7b74626"
      },
      "execution_count": null,
      "outputs": [
        {
          "output_type": "stream",
          "name": "stdout",
          "text": [
            "4\n"
          ]
        }
      ]
    },
    {
      "cell_type": "code",
      "source": [
        "print(np.min(r))                    # giving the smallest element in the array"
      ],
      "metadata": {
        "colab": {
          "base_uri": "https://localhost:8080/"
        },
        "id": "Ak5AQUpv66gJ",
        "outputId": "1e9b6437-2a55-47cf-d869-b82b50806b8f"
      },
      "execution_count": null,
      "outputs": [
        {
          "output_type": "stream",
          "name": "stdout",
          "text": [
            "1\n"
          ]
        }
      ]
    },
    {
      "cell_type": "code",
      "source": [
        "s = np.array([[1,4],[2,-3]])        # comparing and giving the maximum of two arrays\n",
        "print(np.maximum(r,s))"
      ],
      "metadata": {
        "colab": {
          "base_uri": "https://localhost:8080/"
        },
        "id": "Pbm2UHbv6_CP",
        "outputId": "4452410d-0519-45a1-e1d7-13113b67bf74"
      },
      "execution_count": null,
      "outputs": [
        {
          "output_type": "stream",
          "name": "stdout",
          "text": [
            "[[1 4]\n",
            " [2 3]]\n"
          ]
        }
      ]
    },
    {
      "cell_type": "code",
      "source": [
        "np.sin(r)"
      ],
      "metadata": {
        "colab": {
          "base_uri": "https://localhost:8080/"
        },
        "id": "tv8dfoM_880p",
        "outputId": "e326755d-d000-4754-e99d-3a930b2d437a"
      },
      "execution_count": null,
      "outputs": [
        {
          "output_type": "execute_result",
          "data": {
            "text/plain": [
              "array([[ 0.84147098, -0.7568025 ],\n",
              "       [ 0.90929743,  0.14112001]])"
            ]
          },
          "metadata": {},
          "execution_count": 55
        }
      ]
    },
    {
      "cell_type": "code",
      "source": [
        "np.cos(r)"
      ],
      "metadata": {
        "colab": {
          "base_uri": "https://localhost:8080/"
        },
        "id": "lbUXNjBj9Cuc",
        "outputId": "968c3628-3491-43ba-eef0-7dc5243d1f54"
      },
      "execution_count": null,
      "outputs": [
        {
          "output_type": "execute_result",
          "data": {
            "text/plain": [
              "array([[ 0.54030231, -0.65364362],\n",
              "       [-0.41614684, -0.9899925 ]])"
            ]
          },
          "metadata": {},
          "execution_count": 52
        }
      ]
    },
    {
      "cell_type": "code",
      "source": [
        "np.tan(r)"
      ],
      "metadata": {
        "colab": {
          "base_uri": "https://localhost:8080/"
        },
        "id": "grYErIg_9K1w",
        "outputId": "42a52306-a3ba-4a90-f662-317481e6c436"
      },
      "execution_count": null,
      "outputs": [
        {
          "output_type": "execute_result",
          "data": {
            "text/plain": [
              "array([[ 1.55740772,  1.15782128],\n",
              "       [-2.18503986, -0.14254654]])"
            ]
          },
          "metadata": {},
          "execution_count": 54
        }
      ]
    },
    {
      "cell_type": "markdown",
      "source": [
        "**STAISTICS**"
      ],
      "metadata": {
        "id": "TfZSMLxUBWnY"
      }
    },
    {
      "cell_type": "code",
      "source": [
        "np.mean(r)"
      ],
      "metadata": {
        "colab": {
          "base_uri": "https://localhost:8080/"
        },
        "id": "Xfe383Jk9AZq",
        "outputId": "3bbe3533-48bd-4503-add3-259b5db55488"
      },
      "execution_count": null,
      "outputs": [
        {
          "output_type": "execute_result",
          "data": {
            "text/plain": [
              "2.5"
            ]
          },
          "metadata": {},
          "execution_count": 51
        }
      ]
    },
    {
      "cell_type": "code",
      "source": [
        "np.median(r)"
      ],
      "metadata": {
        "colab": {
          "base_uri": "https://localhost:8080/"
        },
        "id": "dWS5UOrXBc6g",
        "outputId": "785f1990-d8de-4c3a-feb7-fda6d98b6aec"
      },
      "execution_count": null,
      "outputs": [
        {
          "output_type": "execute_result",
          "data": {
            "text/plain": [
              "2.5"
            ]
          },
          "metadata": {},
          "execution_count": 72
        }
      ]
    },
    {
      "cell_type": "code",
      "source": [
        "np.average(r)"
      ],
      "metadata": {
        "colab": {
          "base_uri": "https://localhost:8080/"
        },
        "id": "45YtC0IO9Gax",
        "outputId": "7d3a6916-b74c-40c1-d68d-f910ff3b1b24"
      },
      "execution_count": null,
      "outputs": [
        {
          "output_type": "execute_result",
          "data": {
            "text/plain": [
              "2.5"
            ]
          },
          "metadata": {},
          "execution_count": 53
        }
      ]
    },
    {
      "cell_type": "code",
      "source": [
        "np.sum(r,axis =1)"
      ],
      "metadata": {
        "colab": {
          "base_uri": "https://localhost:8080/"
        },
        "id": "Ict_j6Pe9Zf8",
        "outputId": "91186bdc-2963-4278-d254-02ae8a8935a1"
      },
      "execution_count": null,
      "outputs": [
        {
          "output_type": "execute_result",
          "data": {
            "text/plain": [
              "array([5, 5])"
            ]
          },
          "metadata": {},
          "execution_count": 71
        }
      ]
    },
    {
      "cell_type": "markdown",
      "source": [
        "**LINEAR ALGEBRA**"
      ],
      "metadata": {
        "id": "tTnAkaqx_D4u"
      }
    },
    {
      "cell_type": "code",
      "source": [
        "u = np.ones((3,2))\n",
        "print(u)\n",
        "v = np.full((2,3),2)\n",
        "print(v)\n",
        "\n",
        "print(np.matmul(u,v))          # can be done only when two matrix is  a x b   b x a   form  no of columns = no of rows"
      ],
      "metadata": {
        "colab": {
          "base_uri": "https://localhost:8080/"
        },
        "id": "pjMafDN-_Dlz",
        "outputId": "a4c9aa11-a4fb-4c6c-a9b8-9260a7d0f8c8"
      },
      "execution_count": null,
      "outputs": [
        {
          "output_type": "stream",
          "name": "stdout",
          "text": [
            "[[1. 1.]\n",
            " [1. 1.]\n",
            " [1. 1.]]\n",
            "[[2 2 2]\n",
            " [2 2 2]]\n",
            "[[4. 4. 4.]\n",
            " [4. 4. 4.]\n",
            " [4. 4. 4.]]\n"
          ]
        }
      ]
    },
    {
      "cell_type": "code",
      "source": [
        "u = np.identity(3 , dtype = np.int16)\n",
        "print(np.linalg.det(u))"
      ],
      "metadata": {
        "colab": {
          "base_uri": "https://localhost:8080/"
        },
        "id": "DX_Fl7CEAEV4",
        "outputId": "fffdc8e3-a54a-47e4-b2ae-32901cc2b0ce"
      },
      "execution_count": null,
      "outputs": [
        {
          "output_type": "stream",
          "name": "stdout",
          "text": [
            "1.0\n"
          ]
        }
      ]
    },
    {
      "cell_type": "markdown",
      "source": [
        "**RE-ORGANIZING ARRAYS**"
      ],
      "metadata": {
        "id": "-ccJqTu8BhZi"
      }
    },
    {
      "cell_type": "code",
      "source": [
        "# Reshaping the arrays\n",
        "before = np.array([[1,2,3,4],[5,6,7,8]])\n",
        "print(before)\n",
        "\n",
        "after = before.reshape((2,2,2))\n",
        "print(after)"
      ],
      "metadata": {
        "colab": {
          "base_uri": "https://localhost:8080/"
        },
        "id": "XZZmO3shDnn0",
        "outputId": "665630da-e1b6-4bac-9f35-6ba8234dd295"
      },
      "execution_count": null,
      "outputs": [
        {
          "output_type": "stream",
          "name": "stdout",
          "text": [
            "[[1 2 3 4]\n",
            " [5 6 7 8]]\n",
            "[[[1 2]\n",
            "  [3 4]]\n",
            "\n",
            " [[5 6]\n",
            "  [7 8]]]\n"
          ]
        }
      ]
    },
    {
      "cell_type": "code",
      "source": [
        "# vertical stacking\n",
        "v1 = np.array([1,2,3,4])\n",
        "v2 = np.array([2,3,5,6])\n",
        "print(np.vstack([v1,v2]))\n",
        "\n"
      ],
      "metadata": {
        "colab": {
          "base_uri": "https://localhost:8080/"
        },
        "id": "W6rldOCdBuGr",
        "outputId": "e5da229a-d9fa-473b-855b-6cb7d82f69c7"
      },
      "execution_count": null,
      "outputs": [
        {
          "output_type": "stream",
          "name": "stdout",
          "text": [
            "[[1 2 3 4]\n",
            " [2 3 5 6]]\n"
          ]
        }
      ]
    },
    {
      "cell_type": "code",
      "source": [
        "# horizontal stacking\n",
        "print(np.hstack((v1,v2)))\n",
        "\n",
        "\n",
        "a1 = np.ones((2,3))\n",
        "a2 = np.zeros((2,2))\n",
        "\n",
        "print(np.hstack((a1,a2)))"
      ],
      "metadata": {
        "colab": {
          "base_uri": "https://localhost:8080/"
        },
        "id": "MfF69C9tEMJV",
        "outputId": "085f88e6-3e8b-4b46-aefd-11297fc92061"
      },
      "execution_count": null,
      "outputs": [
        {
          "output_type": "stream",
          "name": "stdout",
          "text": [
            "[1 2 3 4 2 3 5 6]\n",
            "[[1. 1. 1. 0. 0.]\n",
            " [1. 1. 1. 0. 0.]]\n"
          ]
        }
      ]
    },
    {
      "cell_type": "markdown",
      "source": [
        " **FETCHING FILE DATA HANDLING**"
      ],
      "metadata": {
        "id": "hqfKUJiBFC9G"
      }
    },
    {
      "cell_type": "code",
      "source": [
        "# getting data from a file without using PANDAS\n",
        "filedata = np.genfromtxt('data.txt', delimiter=',',dtype = np.int16)\n",
        "print(filedata)"
      ],
      "metadata": {
        "colab": {
          "base_uri": "https://localhost:8080/"
        },
        "id": "Oc0N7PpJFNoI",
        "outputId": "7dfb0162-d32c-4adc-f7b3-cfbd2bd4eec1"
      },
      "execution_count": null,
      "outputs": [
        {
          "output_type": "stream",
          "name": "stdout",
          "text": [
            "[[  1  13  21  11 196  75   4   3  34   6   7   8   0   1   2   3   4   5]\n",
            " [  3  42  12  33 766  75   4  55   6   4   3   4   5   6   7   0  11  12]\n",
            " [  1  22  33  11 999  11   2   1  78   0   1   2   9   8   7   1  76  88]]\n"
          ]
        }
      ]
    },
    {
      "cell_type": "code",
      "source": [
        "filedata>50"
      ],
      "metadata": {
        "colab": {
          "base_uri": "https://localhost:8080/"
        },
        "id": "q37wTmvELyLI",
        "outputId": "c1b98af3-6d57-47f6-ba6a-1afe0b794cdb"
      },
      "execution_count": null,
      "outputs": [
        {
          "output_type": "execute_result",
          "data": {
            "text/plain": [
              "array([[False, False, False, False,  True,  True, False, False, False,\n",
              "        False, False, False, False, False, False, False, False, False],\n",
              "       [False, False, False, False,  True,  True, False,  True, False,\n",
              "        False, False, False, False, False, False, False, False, False],\n",
              "       [False, False, False, False,  True, False, False, False,  True,\n",
              "        False, False, False, False, False, False, False,  True,  True]])"
            ]
          },
          "metadata": {},
          "execution_count": 95
        }
      ]
    },
    {
      "cell_type": "code",
      "source": [
        "filedata[filedata>50]"
      ],
      "metadata": {
        "colab": {
          "base_uri": "https://localhost:8080/"
        },
        "id": "nrZXIox-L3Uc",
        "outputId": "229efc0d-c89f-49af-ef5c-39151ce17849"
      },
      "execution_count": null,
      "outputs": [
        {
          "output_type": "execute_result",
          "data": {
            "text/plain": [
              "array([196,  75, 766,  75,  55, 999,  78,  76,  88], dtype=int16)"
            ]
          },
          "metadata": {},
          "execution_count": 96
        }
      ]
    },
    {
      "cell_type": "code",
      "source": [
        "~((filedata > 50) & (filedata < 100))"
      ],
      "metadata": {
        "colab": {
          "base_uri": "https://localhost:8080/"
        },
        "id": "ewtcB63pL8cU",
        "outputId": "37edbadb-3e34-4753-f3f3-130cd1baab08"
      },
      "execution_count": null,
      "outputs": [
        {
          "output_type": "execute_result",
          "data": {
            "text/plain": [
              "array([[ True,  True,  True,  True,  True, False,  True,  True,  True,\n",
              "         True,  True,  True,  True,  True,  True,  True,  True,  True],\n",
              "       [ True,  True,  True,  True,  True, False,  True, False,  True,\n",
              "         True,  True,  True,  True,  True,  True,  True,  True,  True],\n",
              "       [ True,  True,  True,  True,  True,  True,  True,  True, False,\n",
              "         True,  True,  True,  True,  True,  True,  True, False, False]])"
            ]
          },
          "metadata": {},
          "execution_count": 98
        }
      ]
    }
  ]
}